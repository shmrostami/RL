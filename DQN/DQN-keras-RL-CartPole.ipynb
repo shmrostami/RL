{
 "cells": [
  {
   "cell_type": "code",
   "execution_count": 1,
   "id": "db90f533-cf56-4575-85eb-7a11319d7144",
   "metadata": {},
   "outputs": [],
   "source": [
    "import numpy as np\n",
    "import gym\n",
    "\n",
    "from tensorflow.keras.models import Sequential\n",
    "from tensorflow.keras.layers import Dense, Activation, Flatten\n",
    "from tensorflow.keras.optimizers import Adam\n",
    "\n",
    "from rl.agents.dqn import DQNAgent\n",
    "from rl.policy import BoltzmannQPolicy\n",
    "from rl.memory import SequentialMemory"
   ]
  },
  {
   "cell_type": "code",
   "execution_count": 2,
   "id": "b5e42ae4-e86a-497e-a0b2-eebeacab3359",
   "metadata": {},
   "outputs": [],
   "source": [
    "ENV_NAME = 'CartPole-v1'"
   ]
  },
  {
   "cell_type": "markdown",
   "id": "d6a53474-4626-419c-988c-185a610dd0d9",
   "metadata": {},
   "source": [
    "<br/>**Get the environment and extract the number of actions.**"
   ]
  },
  {
   "cell_type": "code",
   "execution_count": 3,
   "id": "4bc887aa-424d-4bfd-9b0e-afcf875553b4",
   "metadata": {},
   "outputs": [],
   "source": [
    "env = gym.make(ENV_NAME)\n",
    "np.random.seed(123)\n",
    "env.seed(123)\n",
    "nb_actions = env.action_space.n"
   ]
  },
  {
   "cell_type": "code",
   "execution_count": 4,
   "id": "d8292198-557b-4323-9f0b-6758d4d10fcd",
   "metadata": {},
   "outputs": [
    {
     "data": {
      "text/plain": [
       "(4,)"
      ]
     },
     "execution_count": 4,
     "metadata": {},
     "output_type": "execute_result"
    }
   ],
   "source": [
    "env.reset().shape"
   ]
  },
  {
   "cell_type": "code",
   "execution_count": 5,
   "id": "df78c487-6c32-4c30-8186-9dab23ec7902",
   "metadata": {},
   "outputs": [
    {
     "data": {
      "text/plain": [
       "(1, 4)"
      ]
     },
     "execution_count": 5,
     "metadata": {},
     "output_type": "execute_result"
    }
   ],
   "source": [
    "(1,) + env.observation_space.shape"
   ]
  },
  {
   "cell_type": "markdown",
   "id": "c031105c-6e7d-4a50-9e04-700e8be23b0b",
   "metadata": {},
   "source": [
    "<br/> **Next, we build a very simple model.**"
   ]
  },
  {
   "cell_type": "code",
   "execution_count": 6,
   "id": "0b57a18a-4b23-47dd-a627-37854a6f0781",
   "metadata": {},
   "outputs": [
    {
     "name": "stdout",
     "output_type": "stream",
     "text": [
      "Model: \"sequential\"\n",
      "_________________________________________________________________\n",
      " Layer (type)                Output Shape              Param #   \n",
      "=================================================================\n",
      " flatten (Flatten)           (None, 4)                 0         \n",
      "                                                                 \n",
      " dense (Dense)               (None, 16)                80        \n",
      "                                                                 \n",
      " activation (Activation)     (None, 16)                0         \n",
      "                                                                 \n",
      " dense_1 (Dense)             (None, 16)                272       \n",
      "                                                                 \n",
      " activation_1 (Activation)   (None, 16)                0         \n",
      "                                                                 \n",
      " dense_2 (Dense)             (None, 16)                272       \n",
      "                                                                 \n",
      " activation_2 (Activation)   (None, 16)                0         \n",
      "                                                                 \n",
      " dense_3 (Dense)             (None, 2)                 34        \n",
      "                                                                 \n",
      " activation_3 (Activation)   (None, 2)                 0         \n",
      "                                                                 \n",
      "=================================================================\n",
      "Total params: 658\n",
      "Trainable params: 658\n",
      "Non-trainable params: 0\n",
      "_________________________________________________________________\n",
      "None\n"
     ]
    }
   ],
   "source": [
    "model = Sequential()\n",
    "model.add(Flatten(input_shape=(1,) + env.observation_space.shape))\n",
    "model.add(Dense(16))\n",
    "model.add(Activation('relu'))\n",
    "model.add(Dense(16))\n",
    "model.add(Activation('relu'))\n",
    "model.add(Dense(16))\n",
    "model.add(Activation('relu'))\n",
    "model.add(Dense(nb_actions))\n",
    "model.add(Activation('linear'))\n",
    "print(model.summary())"
   ]
  },
  {
   "cell_type": "markdown",
   "id": "13791e88-6484-4b32-bbce-0557afb79236",
   "metadata": {},
   "source": [
    "<br/> **Finally, we configure and compile our agent. We can use every built-in tensorflow.keras optimizer and even the metrics!**"
   ]
  },
  {
   "cell_type": "code",
   "execution_count": 7,
   "id": "e974a597-8f79-441b-bd56-dd2fdf6f9db5",
   "metadata": {},
   "outputs": [],
   "source": [
    "memory = SequentialMemory(limit=50000, window_length=1)\n",
    "policy = BoltzmannQPolicy()\n",
    "dqn = DQNAgent(model=model, nb_actions=nb_actions, memory=memory, nb_steps_warmup=20,\n",
    "               target_model_update=1e-2, policy=policy)\n",
    "dqn.compile(Adam(learning_rate=1e-3), metrics=['mae'])"
   ]
  },
  {
   "cell_type": "markdown",
   "id": "39612948-70f2-43f1-859b-eb6d8541ee1b",
   "metadata": {},
   "source": [
    "<br/> **Learn agent**"
   ]
  },
  {
   "cell_type": "code",
   "execution_count": 8,
   "id": "01be8ccb-534d-45e5-a0fb-d48ecfb17c6b",
   "metadata": {
    "tags": []
   },
   "outputs": [
    {
     "name": "stdout",
     "output_type": "stream",
     "text": [
      "Training for 50000 steps ...\n",
      "Interval 1 (0 steps performed)\n",
      "    1/10000 [..............................] - ETA: 7:48 - reward: 1.0000"
     ]
    },
    {
     "name": "stderr",
     "output_type": "stream",
     "text": [
      "C:\\Users\\Administrator\\anaconda3\\lib\\site-packages\\keras\\engine\\training_v1.py:2079: UserWarning: `Model.state_updates` will be removed in a future version. This property should not be used in TensorFlow 2.0, as `updates` are applied automatically.\n",
      "  updates=self.state_updates,\n",
      "C:\\Users\\Administrator\\AppData\\Roaming\\Python\\Python38\\site-packages\\rl\\memory.py:37: UserWarning: Not enough entries to sample without replacement. Consider increasing your warm-up phase to avoid oversampling!\n",
      "  warnings.warn('Not enough entries to sample without replacement. Consider increasing your warm-up phase to avoid oversampling!')\n"
     ]
    },
    {
     "name": "stdout",
     "output_type": "stream",
     "text": [
      "10000/10000 [==============================] - 36s 4ms/step - reward: 1.0000\n",
      "94 episodes - episode_reward: 104.606 [10.000, 313.000] - loss: 0.973 - mae: 19.422 - mean_q: 39.419\n",
      "\n",
      "Interval 2 (10000 steps performed)\n",
      "10000/10000 [==============================] - 36s 4ms/step - reward: 1.0000\n",
      "49 episodes - episode_reward: 206.367 [149.000, 310.000] - loss: 1.618 - mae: 36.965 - mean_q: 74.533\n",
      "\n",
      "Interval 3 (20000 steps performed)\n",
      "10000/10000 [==============================] - 37s 4ms/step - reward: 1.0000\n",
      "40 episodes - episode_reward: 247.600 [148.000, 375.000] - loss: 1.719 - mae: 40.542 - mean_q: 81.572\n",
      "\n",
      "Interval 4 (30000 steps performed)\n",
      "10000/10000 [==============================] - 38s 4ms/step - reward: 1.0000\n",
      "34 episodes - episode_reward: 295.824 [189.000, 453.000] - loss: 2.215 - mae: 44.614 - mean_q: 89.798\n",
      "\n",
      "Interval 5 (40000 steps performed)\n",
      "10000/10000 [==============================] - 39s 4ms/step - reward: 1.0000\n",
      "done, took 185.572 seconds\n"
     ]
    },
    {
     "data": {
      "text/plain": [
       "<keras.callbacks.History at 0x16473d58a90>"
      ]
     },
     "execution_count": 8,
     "metadata": {},
     "output_type": "execute_result"
    }
   ],
   "source": [
    "dqn.fit(env, nb_steps=50000, visualize=False, verbose=1)"
   ]
  },
  {
   "cell_type": "markdown",
   "id": "f53ac91d-41fa-4583-a310-740ab6b5853f",
   "metadata": {},
   "source": [
    "<br/> **Save the final weights after training**"
   ]
  },
  {
   "cell_type": "code",
   "execution_count": 9,
   "id": "ddbaf5d0-efbf-4a86-b507-8a3996f5b444",
   "metadata": {},
   "outputs": [],
   "source": [
    "dqn.save_weights(f'dqn_{ENV_NAME}_weights.h5f', overwrite=True)"
   ]
  },
  {
   "cell_type": "markdown",
   "id": "69962b73-98bf-4c85-83c7-aec01cd4a16f",
   "metadata": {},
   "source": [
    "<br/>**Finally, evaluate our algorithm for 5 episodes.**"
   ]
  },
  {
   "cell_type": "code",
   "execution_count": 8,
   "id": "dae9aa94-948d-44bf-ab40-e2ee3f0fe211",
   "metadata": {},
   "outputs": [],
   "source": [
    "dqn.load_weights(f'dqn_{ENV_NAME}_weights.h5f')"
   ]
  },
  {
   "cell_type": "code",
   "execution_count": 9,
   "id": "aa3c99fa-46c9-4439-bc16-2f105e9bc467",
   "metadata": {},
   "outputs": [
    {
     "name": "stdout",
     "output_type": "stream",
     "text": [
      "Testing for 5 episodes ...\n"
     ]
    },
    {
     "name": "stderr",
     "output_type": "stream",
     "text": [
      "C:\\Users\\Administrator\\anaconda3\\lib\\site-packages\\keras\\engine\\training_v1.py:2079: UserWarning: `Model.state_updates` will be removed in a future version. This property should not be used in TensorFlow 2.0, as `updates` are applied automatically.\n",
      "  updates=self.state_updates,\n"
     ]
    },
    {
     "name": "stdout",
     "output_type": "stream",
     "text": [
      "Episode 1: reward: 443.000, steps: 443\n",
      "Episode 2: reward: 389.000, steps: 389\n",
      "Episode 3: reward: 398.000, steps: 398\n",
      "Episode 4: reward: 364.000, steps: 364\n",
      "Episode 5: reward: 400.000, steps: 400\n"
     ]
    }
   ],
   "source": [
    "dqn.test(env, nb_episodes=5, visualize=True)\n",
    "env.close()"
   ]
  },
  {
   "cell_type": "code",
   "execution_count": null,
   "id": "a91a390d-7e6d-4b03-b1c1-34c0a60c908d",
   "metadata": {},
   "outputs": [],
   "source": []
  }
 ],
 "metadata": {
  "kernelspec": {
   "display_name": "Python 3 (ipykernel)",
   "language": "python",
   "name": "python3"
  },
  "language_info": {
   "codemirror_mode": {
    "name": "ipython",
    "version": 3
   },
   "file_extension": ".py",
   "mimetype": "text/x-python",
   "name": "python",
   "nbconvert_exporter": "python",
   "pygments_lexer": "ipython3",
   "version": "3.8.13"
  }
 },
 "nbformat": 4,
 "nbformat_minor": 5
}
