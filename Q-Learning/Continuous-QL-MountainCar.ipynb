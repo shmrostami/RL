{
 "cells": [
  {
   "cell_type": "markdown",
   "id": "7a938939",
   "metadata": {},
   "source": [
    "# Q Learning - MountainCar"
   ]
  },
  {
   "cell_type": "markdown",
   "id": "2147ae69",
   "metadata": {},
   "source": [
    "MountainCar (https://www.gymlibrary.ml/environments/classic_control/mountain_car/).\n",
    "\n",
    "\n",
    "-----"
   ]
  },
  {
   "cell_type": "markdown",
   "id": "afc8b2ce",
   "metadata": {},
   "source": [
    "#### Import Libraries"
   ]
  },
  {
   "cell_type": "code",
   "execution_count": 1,
   "id": "11e0d486",
   "metadata": {},
   "outputs": [],
   "source": [
    "import gym\n",
    "import numpy as np  \n",
    "import matplotlib.pyplot as plt"
   ]
  },
  {
   "cell_type": "markdown",
   "id": "4c6f7e28",
   "metadata": {},
   "source": [
    "**Create the gym mountain car environment** <br />\n"
   ]
  },
  {
   "cell_type": "code",
   "execution_count": 2,
   "id": "d001763e",
   "metadata": {},
   "outputs": [],
   "source": [
    "env = gym.make(\"MountainCar-v0\")"
   ]
  },
  {
   "cell_type": "markdown",
   "id": "171192c3",
   "metadata": {},
   "source": [
    "**Write a function to create a numpy array holding the bins for the observations of the car (position and velocity).** <br />\n",
    "The function take one argument which acts as the bins per observation <br />\n",
    "Hint: You will probably need around 25 bins for good results, but feel free to use less to reduce training time. <br />\n"
   ]
  },
  {
   "cell_type": "code",
   "execution_count": 3,
   "id": "e4e0ab04",
   "metadata": {},
   "outputs": [],
   "source": [
    "def create_bins(num_bins_per_observation):\n",
    "    car_position = np.linspace(-1.2, 0.6, num_bins_per_observation)  # bins for the car position\n",
    "    car_velocity = np.linspace(-0.07, 0.07, num_bins_per_observation)  # bins for the car velocity\n",
    "    bins = np.array([car_position, car_velocity])  # merge them\n",
    "    return bins"
   ]
  },
  {
   "cell_type": "markdown",
   "id": "9c16f6a1",
   "metadata": {},
   "source": [
    "**Creates the bins and defines the NUM_BINS attribute**"
   ]
  },
  {
   "cell_type": "code",
   "execution_count": 4,
   "id": "c1b2b0ac",
   "metadata": {},
   "outputs": [],
   "source": [
    "NUM_BINS = 40  #  number of bins for this task\n",
    "BINS = create_bins(NUM_BINS)  # Create the bins used for the rest of the notebook"
   ]
  },
  {
   "cell_type": "markdown",
   "id": "28446881",
   "metadata": {},
   "source": [
    "**A function that take in observations from the environment and the bins array and return the discretized version of the observation.**"
   ]
  },
  {
   "cell_type": "markdown",
   "id": "bcceedae",
   "metadata": {},
   "source": [
    "Now we need the code to discretize the observations. We can use the same code as used in the last notebook"
   ]
  },
  {
   "cell_type": "code",
   "execution_count": 5,
   "id": "6365d656",
   "metadata": {},
   "outputs": [],
   "source": [
    "def discretize_observation(observations, bins):\n",
    "    binned_observations = []\n",
    "    for i, observation in enumerate(observations):\n",
    "        discretized_observation = np.digitize(observation, bins[i])\n",
    "        binned_observations.append(discretized_observation)\n",
    "    return tuple(binned_observations) # Important for later indexing"
   ]
  },
  {
   "cell_type": "code",
   "execution_count": 6,
   "id": "c5eca009",
   "metadata": {},
   "outputs": [],
   "source": [
    "test_bins = create_bins(5)\n",
    "np.testing.assert_almost_equal(test_bins[0], [-1.2 , -0.75, -0.3 ,  0.15,  0.6])\n",
    "np.testing.assert_almost_equal(test_bins[1], [-0.07 , -0.035,  0.   ,  0.035,  0.07 ])\n",
    "\n",
    "test_observation = np.array([-0.9, 0.03])\n",
    "discretized_test_bins = discretize_observation(test_observation, test_bins)\n",
    "assert discretized_test_bins == (1, 3)"
   ]
  },
  {
   "cell_type": "markdown",
   "id": "1e2e71a8",
   "metadata": {},
   "source": [
    "**Create the Q-Table** <br />"
   ]
  },
  {
   "cell_type": "code",
   "execution_count": 7,
   "id": "32b9bba7",
   "metadata": {},
   "outputs": [
    {
     "name": "stdout",
     "output_type": "stream",
     "text": [
      "(40, 40, 3)\n"
     ]
    }
   ],
   "source": [
    "q_table_shape = (NUM_BINS, NUM_BINS, env.action_space.n)\n",
    "q_table = np.zeros(q_table_shape)\n",
    "print(q_table.shape)"
   ]
  },
  {
   "cell_type": "markdown",
   "id": "44d485ec",
   "metadata": {},
   "source": [
    "**The Epislon Greedy Action Selection function:**"
   ]
  },
  {
   "cell_type": "code",
   "execution_count": 8,
   "id": "ac943d8d",
   "metadata": {},
   "outputs": [],
   "source": [
    "def epsilon_greedy_action_selection(epsilon, q_table, discrete_state):\n",
    "    if np.random.random() > epsilon:\n",
    "        action = np.argmax(q_table[discrete_state])\n",
    "    else:\n",
    "        action = np.random.randint(0, env.action_space.n)\n",
    "    return action"
   ]
  },
  {
   "cell_type": "markdown",
   "id": "5b6f5ec4",
   "metadata": {},
   "source": [
    "**The function to compute the next Q value.**"
   ]
  },
  {
   "cell_type": "code",
   "execution_count": 9,
   "id": "a7ec635a",
   "metadata": {},
   "outputs": [],
   "source": [
    "def compute_next_q_value(old_q_value, reward, next_optimal_q_value):\n",
    "    \n",
    "    return old_q_value +  ALPHA * (reward + GAMMA * next_optimal_q_value - old_q_value)"
   ]
  },
  {
   "cell_type": "markdown",
   "id": "043548dc",
   "metadata": {},
   "source": [
    "**The function to reduce epsilon based on the number of epochs.**"
   ]
  },
  {
   "cell_type": "code",
   "execution_count": 10,
   "id": "ea236a4b",
   "metadata": {},
   "outputs": [],
   "source": [
    "def reduce_epsilon(epsilon, epoch):\n",
    "    if BURN_IN <= epoch <= EPSILON_END:\n",
    "        epsilon-= EPSILON_REDUCE\n",
    "    return epsilon"
   ]
  },
  {
   "cell_type": "markdown",
   "id": "f2631b38",
   "metadata": {},
   "source": [
    "**Define hyperparameters. Note, the hyperparameters here is depending on *reduce_epsilon* function.**"
   ]
  },
  {
   "cell_type": "code",
   "execution_count": 11,
   "id": "60825d7b",
   "metadata": {},
   "outputs": [],
   "source": [
    "EPOCHS = 30000\n",
    "BURN_IN = 100\n",
    "epsilon = 1\n",
    "\n",
    "EPSILON_END= 10000\n",
    "EPSILON_REDUCE = 0.0001 #epsilon / EPOCHS\n",
    "\n",
    "ALPHA = 0.8\n",
    "GAMMA = 0.9\n"
   ]
  },
  {
   "cell_type": "markdown",
   "id": "f73abcf6",
   "metadata": {},
   "source": [
    "**The training loop for the reinforcement learning agent and run the loop.** <br />"
   ]
  },
  {
   "cell_type": "code",
   "execution_count": 12,
   "id": "d671a646",
   "metadata": {},
   "outputs": [
    {
     "data": {
      "image/png": "[encoded data removed]",
      "text/plain": [
       "<Figure size 432x288 with 1 Axes>"
      ]
     },
     "metadata": {
      "needs_background": "light"
     },
     "output_type": "display_data"
    }
   ],
   "source": [
    "log_interval = 100  # How often do we update the plot? (Just for performance reasons)\n",
    "### Here we set up the routine for the live plotting of the achieved points ######\n",
    "fig = plt.figure()\n",
    "ax = fig.add_subplot(111)\n",
    "plt.ion()\n",
    "fig.canvas.draw()\n",
    "##################################################################################\n",
    "\n",
    "max_position_log = []  # to store all achieved points\n",
    "mean_positions_log = []  # to store a running mean of the last 30 results\n",
    "epochs = []  # store the epoch for plotting\n",
    "\n",
    "for epoch in range(EPOCHS):\n",
    "    ################################# TODO ######################################\n",
    "    \n",
    "    # TODO: Get initial observation and discretize them. Set done to False\n",
    "    initial_state = env.reset()  # get the initial observation\n",
    "    discretized_state = discretize_observation(initial_state, BINS)  # map the observation to the bins\n",
    "    done = False  # to stop current run when the car reaches the top or the time limit is reached\n",
    "    \n",
    "    max_position = -np.inf  # for plotting\n",
    "    epochs.append(epoch)\n",
    "    \n",
    "    # TODO: As long as current run is alive (i.e not done) perform the following steps:\n",
    "    while not done:  # Perform current run as long as done is False (as long as there is still time to reach the top)\n",
    "\n",
    "\n",
    "        # TODO: Select action according to epsilon-greedy strategy\n",
    "        action = epsilon_greedy_action_selection(epsilon, q_table, discretized_state)  # Epsilon-Greedy Action Selection\n",
    "        \n",
    "        # TODO: Perform selected action and get next state. Do not forget to discretize it\n",
    "        next_state, reward, done, info = env.step(action)  # perform action and get next state\n",
    "        position, velocity = next_state\n",
    "        next_state_discretized = discretize_observation(next_state, BINS)  # map the next observation to the bins\n",
    "        \n",
    "        # TODO: Get old Q-value from Q-Table and get next optimal Q-Value\n",
    "        old_q_value =  q_table[discretized_state + (action,)]  # get the old Q-Value from the Q-Table\n",
    "        next_optimal_q_value = np.max(q_table[next_state_discretized])  # Get the next optimal Q-Value\n",
    "        \n",
    "        # TODO: Compute next Q-Value and insert it into the table\n",
    "        next_q = compute_next_q_value(old_q_value, reward, next_optimal_q_value)  # Compute next Q-Value\n",
    "        q_table[discretized_state + (action,)] = next_q  # Insert next Q-Value into the table\n",
    "        \n",
    "        # TODO: Update the old state with the new one\n",
    "        discretized_state = next_state_discretized  # Update the old state with the new one\n",
    "        \n",
    "        if position > max_position:  # Only for plotting the results - store the highest point the car is able to reach\n",
    "            max_position = position\n",
    "\n",
    "    # TODO: Reduce epsilon\n",
    "    epsilon = reduce_epsilon(epsilon, epoch)  # Reduce epsilon\n",
    "    ##############################################################################\n",
    "\n",
    "    max_position_log.append(max_position)  # log the highest position the car was able to reach\n",
    "    running_mean = round(np.mean(max_position_log[-30:]), 2)  # Compute running mean of position over the last 30 epochs\n",
    "    mean_positions_log.append(running_mean)  # and log it\n",
    "    \n",
    "    ################ Plot the points and running mean ##################\n",
    "    if epoch % log_interval == 0:\n",
    "        ax.clear()\n",
    "        ax.scatter(epochs, max_position_log)\n",
    "        ax.plot(epochs, max_position_log)\n",
    "        ax.plot(epochs, mean_positions_log, label=f\"Running Mean: {running_mean}\")\n",
    "        plt.legend()\n",
    "        fig.canvas.draw()\n",
    "  ######################################################################\n",
    "\n",
    "env.close()\n"
   ]
  },
  {
   "cell_type": "markdown",
   "id": "3e5de67a",
   "metadata": {},
   "source": [
    "**Test the agent using Q-Table and render its performance.**"
   ]
  },
  {
   "cell_type": "code",
   "execution_count": 13,
   "id": "39fbe789",
   "metadata": {
    "scrolled": true
   },
   "outputs": [
    {
     "name": "stdout",
     "output_type": "stream",
     "text": [
      "done\n"
     ]
    }
   ],
   "source": [
    "observation = env.reset()\n",
    "for counter in range(3000):\n",
    "    env.render()\n",
    "    \n",
    "    # TODO: Get discretized observation\n",
    "    discrete_state = discretize_observation(observation, BINS)  # Get discretized observation\n",
    "    \n",
    "    # TODO: Chose action from Q-Table\n",
    "    action = np.argmax(q_table[discrete_state])  # and chose action from the Q-Table\n",
    "    \n",
    "    # TODO: Perform the action \n",
    "    observation, reward, done, info = env.step(action) # Finally perform the action\n",
    "    \n",
    "    if done:\n",
    "        print(f\"done\")\n",
    "        break\n",
    "env.close()\n"
   ]
  },
  {
   "cell_type": "markdown",
   "id": "5d77b6e7",
   "metadata": {},
   "source": [
    "**OPTIONAL: Play with our Q-Table with 40 bins per observation.**"
   ]
  },
  {
   "cell_type": "code",
   "execution_count": 14,
   "id": "831daba7",
   "metadata": {},
   "outputs": [],
   "source": [
    "np.save('40bin_qtable_mountaincar.npy',q_table)"
   ]
  },
  {
   "cell_type": "code",
   "execution_count": 15,
   "id": "1e16f226",
   "metadata": {},
   "outputs": [],
   "source": [
    "our_q_table = np.load('40bin_qtable_mountaincar.npy')"
   ]
  },
  {
   "cell_type": "code",
   "execution_count": 16,
   "id": "1832a448",
   "metadata": {},
   "outputs": [
    {
     "data": {
      "text/plain": [
       "(40, 40, 3)"
      ]
     },
     "execution_count": 16,
     "metadata": {},
     "output_type": "execute_result"
    }
   ],
   "source": [
    "our_q_table.shape"
   ]
  }
 ],
 "metadata": {
  "kernelspec": {
   "display_name": "Python 3 (ipykernel)",
   "language": "python",
   "name": "python3"
  },
  "language_info": {
   "codemirror_mode": {
    "name": "ipython",
    "version": 3
   },
   "file_extension": ".py",
   "mimetype": "text/x-python",
   "name": "python",
   "nbconvert_exporter": "python",
   "pygments_lexer": "ipython3",
   "version": "3.9.12"
  }
 },
 "nbformat": 4,
 "nbformat_minor": 5
}
