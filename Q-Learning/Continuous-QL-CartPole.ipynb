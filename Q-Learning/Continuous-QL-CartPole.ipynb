{
 "cells": [
  {
   "cell_type": "markdown",
   "id": "green-recommendation",
   "metadata": {},
   "source": [
    "# Q-Learning - CartPole\n"
   ]
  },
  {
   "cell_type": "markdown",
   "id": "floppy-machine",
   "metadata": {},
   "source": [
    "the CartPole environment https://www.gymlibrary.ml/environments/classic_control/cart_pole/"
   ]
  },
  {
   "cell_type": "markdown",
   "id": "2739bbfb",
   "metadata": {},
   "source": [
    "### Imports"
   ]
  },
  {
   "cell_type": "code",
   "execution_count": 1,
   "id": "billion-funds",
   "metadata": {},
   "outputs": [],
   "source": [
    "import time  # slow the game down a little bit\n",
    "from pyglet.window import key  # for manual playing\n",
    "\n",
    "import gym\n",
    "import numpy as np  # used for all kinds of matrix / vector operations\n",
    "import matplotlib.pyplot as plt  # for plotting"
   ]
  },
  {
   "cell_type": "markdown",
   "id": "d1d8f004",
   "metadata": {
    "tags": []
   },
   "source": [
    "### Environment Setup"
   ]
  },
  {
   "cell_type": "code",
   "execution_count": 3,
   "id": "southern-science",
   "metadata": {},
   "outputs": [],
   "source": [
    "env = gym.make(\"CartPole-v1\")  # We want to solve the CartPole task\n",
    "env.reset()  # Reset to initial state\n",
    "for _ in range(100):\n",
    "    env.render()  # Render on the screen\n",
    "    action = env.action_space.sample()  # chose a random action\n",
    "    observation, reward, done, info = env.step(action)  # Perform random action on the environment\n",
    "    time.sleep(0.01)\n",
    "    if done:\n",
    "        env.reset()\n",
    "\n",
    "env.close()  # dont forget to close the environment"
   ]
  },
  {
   "cell_type": "markdown",
   "id": "fantastic-division",
   "metadata": {},
   "source": [
    "Let us take a look at the possible actions.\n",
    "You can find them here: https://www.gymlibrary.ml/environments/classic_control/cart_pole/\n",
    "As we can see, there are 4 observations:\n",
    "* Cart Position (-4.8 to 4.8)\n",
    "* Cart Velocity $(-\\infty \\text{ to } \\infty)$\n",
    "* Pole Angle (-0.418 to 0.418) rad or (-24 to 24) degrees\n",
    "* Pole Angular Velocity $(-\\infty \\text{ to } \\infty)$\n",
    "\n",
    "and two actions:\n",
    "* 0 - Move to the left\n",
    "* 1 - Move to the right"
   ]
  },
  {
   "cell_type": "markdown",
   "id": "5d905d63-727d-4f9d-9eff-0d52343c9b7f",
   "metadata": {},
   "source": [
    "### Play manually\n",
    "The next cell contains code to play the game manually - Feel free to try it out by using the left and right arrow key"
   ]
  },
  {
   "cell_type": "code",
   "execution_count": 5,
   "id": "photographic-deployment",
   "metadata": {},
   "outputs": [
    {
     "name": "stdout",
     "output_type": "stream",
     "text": [
      "You got 18 points!\n"
     ]
    }
   ],
   "source": [
    "action = 0\n",
    "k = 0\n",
    "def key_press(k, mod):\n",
    "    '''\n",
    "    This function gets the key press for gym\n",
    "    '''\n",
    "    global action\n",
    "    if k == key.LEFT:\n",
    "        action = 0\n",
    "    if k == key.RIGHT:\n",
    "        action = 1\n",
    "\n",
    "env.reset()\n",
    "rewards = 0\n",
    "for _ in range(1000):\n",
    "    env.render()\n",
    "    env.viewer.window.on_key_press = key_press  # update the key press\n",
    "    observation, reward, done, info = env.step(action)  # get the reward and the done flag\n",
    "    rewards+=1\n",
    "    if done:\n",
    "        print(f\"You got {rewards} points!\")\n",
    "        break\n",
    "    time.sleep(0.1)  # reduce speed a little bit (edit as needed on you computer)\n",
    "env.close()"
   ]
  },
  {
   "cell_type": "markdown",
   "id": "faa7f4b7",
   "metadata": {
    "tags": []
   },
   "source": [
    "## Discretization for Q Table"
   ]
  },
  {
   "cell_type": "markdown",
   "id": "scheduled-glasgow",
   "metadata": {},
   "source": [
    "We need to solve one problem before we can start working on the implementation:\n",
    "The Q-Learning algorithm relies on the creation of discrete Q-Tables but our environment returns continuous values (angle and velocity).\n",
    "So we need to discretize our observation, i.e we assign each observation to a discrete state.\n",
    "To do so, we need to define a number of classes for each observation in order to assign each observation to one of those classes.<br />\n",
    "In fact those classes are called ***bins***\n",
    "\n",
    "Let us just say that we want to allow 10 possible observations, thus each continuous observation is put into one of the 10 bins.\n",
    "We can use *np.linspace(low, high, num)* for that. <br />\n",
    "*np.linspace* creates a linearly spaced array from low to high containing num elements (10 in our case). <br />\n",
    "The values used for low and high are the max value we took from the cartPole source code.(https://github.com/openai/gym/blob/master/gym/envs/classic_control/cartpole.py). You can find them above. <br />\n",
    "For the sake of convenience, we dont use the range $-\\infty$ to $\\infty$ for the velocity, but -5 to 5.\n"
   ]
  },
  {
   "cell_type": "code",
   "execution_count": 6,
   "id": "rural-facial",
   "metadata": {},
   "outputs": [],
   "source": [
    "def create_bins(num_bins_per_action=10):\n",
    "    bins_cart_position = np.linspace(-4.8, 4.8, num_bins_per_action)  # bins for the cart position\n",
    "    bins_cart_velocity = np.linspace(-5, 5, num_bins_per_action)  # bins for the cart velocity\n",
    "    bins_pole_angle = np.linspace(-0.418, 0.418, num_bins_per_action)  # bins for the pole angle\n",
    "    bins_pole_angular_velocity = np.linspace(-5, 5, num_bins_per_action)  # bins for the pole angular velocity\n",
    "    bins = np.array([bins_cart_position, bins_cart_velocity, bins_pole_angle, bins_pole_angular_velocity])  # merge them\n",
    "    return bins"
   ]
  },
  {
   "cell_type": "code",
   "execution_count": 7,
   "id": "variable-manner",
   "metadata": {},
   "outputs": [],
   "source": [
    "NUM_BINS = 10\n",
    "BINS = create_bins(NUM_BINS)  # Create the bins used for the rest of the notebook"
   ]
  },
  {
   "cell_type": "markdown",
   "id": "intimate-appliance",
   "metadata": {},
   "source": [
    "We now defined our possible bins for each observation. Let's take a look at them:"
   ]
  },
  {
   "cell_type": "code",
   "execution_count": 8,
   "id": "smoking-childhood",
   "metadata": {},
   "outputs": [
    {
     "name": "stdout",
     "output_type": "stream",
     "text": [
      "Bins for Cart Position: [-4.8        -3.73333333 -2.66666667 -1.6        -0.53333333  0.53333333\n",
      "  1.6         2.66666667  3.73333333  4.8       ]\n",
      "Bins for Cart Velocity: [-5.         -3.88888889 -2.77777778 -1.66666667 -0.55555556  0.55555556\n",
      "  1.66666667  2.77777778  3.88888889  5.        ]\n",
      "Bins for Pole Angle: [-0.418      -0.32511111 -0.23222222 -0.13933333 -0.04644444  0.04644444\n",
      "  0.13933333  0.23222222  0.32511111  0.418     ]\n",
      "Bins for Pole Angular Velocity : [-5.         -3.88888889 -2.77777778 -1.66666667 -0.55555556  0.55555556\n",
      "  1.66666667  2.77777778  3.88888889  5.        ]\n"
     ]
    }
   ],
   "source": [
    "print(f\"Bins for Cart Position: {BINS[0]}\")\n",
    "print(f\"Bins for Cart Velocity: {BINS[1]}\")\n",
    "print(f\"Bins for Pole Angle: {BINS[2]}\")\n",
    "print(f\"Bins for Pole Angular Velocity : {BINS[3]}\")"
   ]
  },
  {
   "cell_type": "markdown",
   "id": "7d4e7cf7",
   "metadata": {},
   "source": [
    "## Mapping from Continuous to Discrete"
   ]
  },
  {
   "cell_type": "markdown",
   "id": "controlling-correspondence",
   "metadata": {},
   "source": [
    "We now need to write a function which maps each observation to one of those values.\n",
    "Luckily numpy provides the function *digitize(data, bins)* for us which takes care of the mapping.\n",
    "*np.digitize()* returns the index of the bin which is closest to the data to be mapped"
   ]
  },
  {
   "cell_type": "code",
   "execution_count": 13,
   "id": "authorized-collective",
   "metadata": {},
   "outputs": [
    {
     "name": "stdout",
     "output_type": "stream",
     "text": [
      "3\n"
     ]
    }
   ],
   "source": [
    "### Digitize Demo ###\n",
    "demo_bin = [0, 1, 2, 3, 4, 5]\n",
    "demo_data = 2.4  # as 2 hast the closest distance to 2.4, the result\n",
    "                 # of the digitize function should be 3, as 2 is located at the third index of the bins\n",
    "print(np.digitize(demo_data, demo_bin))"
   ]
  },
  {
   "cell_type": "code",
   "execution_count": 14,
   "id": "described-democracy",
   "metadata": {},
   "outputs": [],
   "source": [
    "def discretize_observation(observations, bins):\n",
    "    binned_observations = []\n",
    "    for i, observation in enumerate(observations):\n",
    "        discretized_observation = np.digitize(observation, bins[i])\n",
    "        binned_observations.append(discretized_observation)\n",
    "    return tuple(binned_observations) # Important for later indexing"
   ]
  },
  {
   "cell_type": "markdown",
   "id": "valuable-calcium",
   "metadata": {},
   "source": [
    "Let us test our function"
   ]
  },
  {
   "cell_type": "code",
   "execution_count": 15,
   "id": "characteristic-address",
   "metadata": {},
   "outputs": [
    {
     "name": "stdout",
     "output_type": "stream",
     "text": [
      "Cart Position: 0.044915955513715744\n",
      "Cart Velocity: 0.02099619433283806\n",
      "Pole Angle: 0.02843390963971615\n",
      "Pole Angular Velocity : -0.00017890488379634917\n"
     ]
    }
   ],
   "source": [
    "observation = env.reset()  # Remember that env.reset() returns the intial observation\n",
    "print(f\"Cart Position: {observation[0]}\")\n",
    "print(f\"Cart Velocity: {observation[1]}\")\n",
    "print(f\"Pole Angle: {observation[2]}\")\n",
    "print(f\"Pole Angular Velocity : {observation[3]}\")"
   ]
  },
  {
   "cell_type": "code",
   "execution_count": 16,
   "id": "approved-marine",
   "metadata": {},
   "outputs": [
    {
     "name": "stdout",
     "output_type": "stream",
     "text": [
      "(5, 5, 5, 5)\n"
     ]
    }
   ],
   "source": [
    "mapped_observation = discretize_observation(observation, BINS)\n",
    "print(mapped_observation)"
   ]
  },
  {
   "cell_type": "markdown",
   "id": "assisted-findings",
   "metadata": {},
   "source": [
    "(5, 5, 5, 5) means that each observation is assigned to bin 5.\n",
    "Lets check if that is correct"
   ]
  },
  {
   "cell_type": "markdown",
   "id": "dramatic-strength",
   "metadata": {},
   "source": [
    "Bin 5 contains the values 0.53333/0.55555 for all observations which leads to bin 5 for each individual observation! <br />\n",
    "But another test might be a good idea.\n",
    "Lets define the array: <br />\n",
    "test = (-5, 5, 0.2, -4). <br />\n",
    "If our function works correctly, it should output:(0, 10, 7, 1) as those are the bins corresponding to those values"
   ]
  },
  {
   "cell_type": "code",
   "execution_count": 17,
   "id": "liable-richardson",
   "metadata": {},
   "outputs": [
    {
     "data": {
      "text/plain": [
       "(0, 10, 7, 1)"
      ]
     },
     "execution_count": 17,
     "metadata": {},
     "output_type": "execute_result"
    }
   ],
   "source": [
    "test = (-5, 5, 0.2, -4)\n",
    "discretize_observation(test, BINS)  # Nice!"
   ]
  },
  {
   "cell_type": "markdown",
   "id": "structural-contest",
   "metadata": {},
   "source": [
    "Now that we validated the functionality of our function it is time to move on with the Q-Learning algorithm. <br />\n",
    "Let us create the Q-Table:\n",
    "Remember that the Q-Table has a cell for each permutation of state-action pair. <br />\n",
    "As there are 4 possible observations, (with 10 bins each) and 2 actions this yields that:\n",
    "$$10\\times10\\times10\\times10\\times2$$ cells are needed to cover all permutations\n",
    "\n",
    "We can create the Q-Table by using np.zeros(shape)"
   ]
  },
  {
   "cell_type": "code",
   "execution_count": 18,
   "id": "latter-header",
   "metadata": {},
   "outputs": [
    {
     "name": "stdout",
     "output_type": "stream",
     "text": [
      "(10, 10, 10, 10, 2)\n"
     ]
    }
   ],
   "source": [
    "q_table_shape = (NUM_BINS, NUM_BINS, NUM_BINS, NUM_BINS, env.action_space.n)\n",
    "q_table = np.zeros(q_table_shape)\n",
    "print(q_table.shape)"
   ]
  },
  {
   "cell_type": "markdown",
   "id": "c79c2401",
   "metadata": {},
   "source": [
    "### Constants and Hyperparameters"
   ]
  },
  {
   "cell_type": "code",
   "execution_count": 19,
   "id": "7c272133",
   "metadata": {},
   "outputs": [],
   "source": [
    "EPOCHS = 20000\n",
    "ALPHA = 0.8\n",
    "GAMMA = 0.9"
   ]
  },
  {
   "cell_type": "code",
   "execution_count": 20,
   "id": "db1baf40",
   "metadata": {},
   "outputs": [],
   "source": [
    "# Exploration vs. Exploitation parameters\n",
    "epsilon = 1.0                 # Exploration rate\n",
    "max_epsilon = 1.0             # Exploration probability at start\n",
    "min_epsilon = 0.01            # Minimum exploration probability \n",
    "decay_rate = 0.001             # Exponential decay rate for exploration prob"
   ]
  },
  {
   "cell_type": "markdown",
   "id": "dense-saturday",
   "metadata": {},
   "source": [
    "### Now it is time to dive into the training / Q-Table update methodology.<br />\n",
    "First we will define some functions needed for training phase\n",
    "\n",
    "* ***epsilon_greedy_action_selection:*** Is used to implement the epsilon greedy action selection routine.\n",
    "* ***fail:*** Defines the lowest amounts of points which actually count as **solved**, otherwise sets the reward to a very small value\n",
    "* ***compute_next_q_value:*** Computes the next Q-Values according to the formula from the lecture\n",
    "* ***reduce_epsilon:*** Reduces the $\\epsilon$ used for the epsilon greedy algorithm"
   ]
  },
  {
   "cell_type": "code",
   "execution_count": 21,
   "id": "51dc156e",
   "metadata": {},
   "outputs": [],
   "source": [
    "def epsilon_greedy_action_selection(epsilon, q_table, discrete_state):\n",
    "    '''\n",
    "    Returns an action for the agent. Note how it uses a random number to decide on\n",
    "    exploration versus explotation trade-off.\n",
    "    '''\n",
    "    random_number = np.random.random()\n",
    "    \n",
    "    # EXPLOITATION, USE BEST Q(s,a) Value\n",
    "    if random_number > epsilon:\n",
    "\n",
    "        action = np.argmax(q_table[discrete_state])\n",
    "\n",
    "    # EXPLORATION, USE A RANDOM ACTION\n",
    "    else:\n",
    "        # Return a random 0,1,2,3 action\n",
    "        action = np.random.randint(0, env.action_space.n)\n",
    "\n",
    "    return action"
   ]
  },
  {
   "cell_type": "markdown",
   "id": "c7614d1a",
   "metadata": {},
   "source": [
    "**FUNCTION FOR Q_VALUE COMPUTATION**\n",
    "\n",
    "**Here we have our main Q-Learning update equation, note how it takes in the old q-value, the next optimal q value, along with our current reward, and then updates the next q value accordingly.**"
   ]
  },
  {
   "cell_type": "code",
   "execution_count": 22,
   "id": "5b899cfa",
   "metadata": {},
   "outputs": [],
   "source": [
    "def compute_next_q_value(old_q_value, reward, next_optimal_q_value):\n",
    "    \n",
    "    return old_q_value +  ALPHA * (reward + GAMMA * next_optimal_q_value - old_q_value)"
   ]
  },
  {
   "cell_type": "markdown",
   "id": "0a48fc14",
   "metadata": {},
   "source": [
    "**FUNCTION TO REDUCE EPSILON**\n",
    "\n",
    "**As training continues, we need to balance explotation versus exploration, we want ot make sure our agent doesn't get trapped in a cycle going from an F square to another F Square back and forth. We also don't want our agent permanently choosing random values. We'll use the function below to try to balance this.**\n",
    "\n",
    "*Note, this is an alternative to our previous exponential decay, its a linear decay. It's not worse or better, just an alternative.*"
   ]
  },
  {
   "cell_type": "code",
   "execution_count": 23,
   "id": "0e468214",
   "metadata": {},
   "outputs": [],
   "source": [
    "BURN_IN = 1\n",
    "epsilon = 1\n",
    "\n",
    "EPSILON_END= 10000\n",
    "EPSILON_REDUCE = 0.0001"
   ]
  },
  {
   "cell_type": "code",
   "execution_count": 24,
   "id": "400d6143",
   "metadata": {},
   "outputs": [],
   "source": [
    "def reduce_epsilon(epsilon, epoch):\n",
    "    if BURN_IN <= epoch <= EPSILON_END:\n",
    "        epsilon-= EPSILON_REDUCE\n",
    "    return epsilon"
   ]
  },
  {
   "cell_type": "markdown",
   "id": "c5efbcdf",
   "metadata": {},
   "source": [
    "**CUSTOM REWARD VALUES**"
   ]
  },
  {
   "cell_type": "code",
   "execution_count": 25,
   "id": "93b85a94",
   "metadata": {},
   "outputs": [],
   "source": [
    "def fail(done, points, reward):\n",
    "    if done and points < 150:\n",
    "        reward = -200\n",
    "    return reward"
   ]
  },
  {
   "cell_type": "markdown",
   "id": "broke-station",
   "metadata": {},
   "source": [
    "## Training"
   ]
  },
  {
   "cell_type": "code",
   "execution_count": 26,
   "id": "czech-isaac",
   "metadata": {},
   "outputs": [
    {
     "data": {
      "image/png": "[encoded data removed]",
      "text/plain": [
       "<Figure size 432x288 with 1 Axes>"
      ]
     },
     "metadata": {
      "needs_background": "light"
     },
     "output_type": "display_data"
    }
   ],
   "source": [
    "##############################################\n",
    "### VISUALIZATION OF TRAINING PROGRESS ######\n",
    "#############################################\n",
    "\n",
    "log_interval = 500  # How often do we update the plot? (Just for performance reasons)\n",
    "render_interval = 2000  # How often to render the game during training (If you want to watch your model learning)\n",
    "### Here we set up the routine for the live plotting of the achieved points ######\n",
    "fig = plt.figure()\n",
    "ax = fig.add_subplot(111)\n",
    "plt.ion()\n",
    "fig.canvas.draw()\n",
    "##############################################\n",
    "\n",
    "points_log = []  # to store all achieved points\n",
    "mean_points_log = []  # to store a running mean of the last 30 results\n",
    "epochs = []  # store the epoch for plotting\n",
    "\n",
    "for epoch in range(EPOCHS):\n",
    "    \n",
    "    ## Continuous State --> Discrete State\n",
    "    \n",
    "    initial_state = env.reset()  # get the initial observation\n",
    "    discretized_state = discretize_observation(initial_state, BINS)  # map the observation to the bins\n",
    "    \n",
    "    done = False  # to stop current run when cartpole falls down   \n",
    "    points = 0  # store result\n",
    "    \n",
    "    # Track Epochs for Plotting Visualization\n",
    "    epochs.append(epoch)\n",
    "    \n",
    "    \n",
    "    while not done:  # Perform current run as long as done is False (as long as the cartpole is up)\n",
    "        \n",
    "        # View how the cartpole is doing every render interval\n",
    "#         if epoch % render_interval == 0:  \n",
    "#             env.render()\n",
    "\n",
    "        action = epsilon_greedy_action_selection(epsilon, q_table, discretized_state)  # Epsilon-Greedy Action Selection \n",
    "        next_state, reward, done, info = env.step(action)  # perform action and get next state\n",
    "        reward = fail(done, points, reward)  # Check if reward or fail state\n",
    "\n",
    "\n",
    "        next_state_discretized = discretize_observation(next_state, BINS)  # map the next observation to the bins\n",
    "\n",
    "        old_q_value =  q_table[discretized_state + (action,)]  # get the old Q-Value from the Q-Table\n",
    "        next_optimal_q_value = np.max(q_table[next_state_discretized])  # Get the next optimal Q-Value\n",
    "        \n",
    "\n",
    "        next_q = compute_next_q_value(old_q_value, reward, next_optimal_q_value)  # Compute next Q-Value\n",
    "        q_table[discretized_state + (action,)] = next_q  # Insert next Q-Value into the table\n",
    "\n",
    "        discretized_state = next_state_discretized  # Update the old state\n",
    "        points += 1\n",
    "\n",
    "    epsilon = reduce_epsilon(epsilon, epoch)  # Reduce epsilon\n",
    "    points_log.append(points)  # log overall achieved points for the current epoch\n",
    "    running_mean = round(np.mean(points_log[-30:]), 2)  # Compute running mean points over the last 30 epochs\n",
    "    mean_points_log.append(running_mean)  # and log it\n",
    "    \n",
    "    ################ Plot the points and running mean ##################\n",
    "    if epoch % log_interval == 0:\n",
    "        ax.clear()\n",
    "        ax.scatter(epochs, points_log, label=\"scatter\")\n",
    "        ax.plot(epochs, points_log, label=\"points_log\")\n",
    "        ax.plot(epochs, mean_points_log, label=f\"Running Mean: {running_mean}\")\n",
    "        plt.legend()\n",
    "        fig.canvas.draw()\n",
    "  ######################################################################\n",
    "\n",
    "env.close()"
   ]
  },
  {
   "cell_type": "markdown",
   "id": "sacred-adventure",
   "metadata": {},
   "source": [
    "Now it is time for a final evaluation round!\n",
    "Let's see how well our first RL agent performs"
   ]
  },
  {
   "cell_type": "markdown",
   "id": "9d16d1a9",
   "metadata": {},
   "source": [
    "# Final Agent Playing the Game"
   ]
  },
  {
   "cell_type": "code",
   "execution_count": 27,
   "id": "upset-dictionary",
   "metadata": {},
   "outputs": [
    {
     "name": "stdout",
     "output_type": "stream",
     "text": [
      "You got 220 points!\n"
     ]
    }
   ],
   "source": [
    "observation = env.reset()\n",
    "rewards = 0\n",
    "for _ in range(1000):\n",
    "    env.render()\n",
    "    discrete_state = discretize_observation(observation, BINS)  # get bins\n",
    "    action = np.argmax(q_table[discrete_state])  # and chose action from the Q-Table\n",
    "    observation, reward, done, info = env.step(action) # Finally perform the action\n",
    "    rewards+=1\n",
    "    if done:\n",
    "        print(f\"You got {rewards} points!\")\n",
    "        break\n",
    "env.close()\n"
   ]
  },
  {
   "cell_type": "markdown",
   "id": "complex-government",
   "metadata": {},
   "source": [
    "Feel free to change all hyperparameters!\n",
    "Especially the number of bins has a huge impact on the training"
   ]
  }
 ],
 "metadata": {
  "kernelspec": {
   "display_name": "Python 3 (ipykernel)",
   "language": "python",
   "name": "python3"
  },
  "language_info": {
   "codemirror_mode": {
    "name": "ipython",
    "version": 3
   },
   "file_extension": ".py",
   "mimetype": "text/x-python",
   "name": "python",
   "nbconvert_exporter": "python",
   "pygments_lexer": "ipython3",
   "version": "3.9.12"
  }
 },
 "nbformat": 4,
 "nbformat_minor": 5
}
